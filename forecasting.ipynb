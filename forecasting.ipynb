{
 "cells": [
  {
   "cell_type": "code",
   "id": "initial_id",
   "metadata": {
    "collapsed": true
   },
   "source": [
    "import pandas as pd\n",
    "import numpy as np\n",
    "import matplotlib.pyplot as plt\n",
    "import seaborn as sns\n",
    "import requests\n",
    "from bs4 import BeautifulSoup\n",
    "\n"
   ],
   "outputs": [],
   "execution_count": null
  },
  {
   "metadata": {},
   "cell_type": "code",
   "source": [
    "#Cargar los datos\n",
    "dtype_spec = {\n",
    "    train_df.columns[7]: 'str'\n",
    "}\n",
    "\n",
    "train_df = pd.read_csv('train.csv', dtype=dtype_spec)\n",
    "test_df = pd.read_csv('test.csv')\n",
    "store_df = pd.read_csv('store.csv')"
   ],
   "id": "1412f81f831a8e63",
   "outputs": [],
   "execution_count": null
  },
  {
   "metadata": {},
   "cell_type": "code",
   "source": [
    "# Mostrar las primeras filas de cada DataFrame\n",
    "print(train_df.head())\n"
   ],
   "id": "279f0e4a2f41a77f",
   "outputs": [],
   "execution_count": null
  },
  {
   "metadata": {},
   "cell_type": "code",
   "source": "print(test_df.head())",
   "id": "2db6dc6aad7d96d6",
   "outputs": [],
   "execution_count": null
  },
  {
   "metadata": {},
   "cell_type": "code",
   "source": "print(store_df.head())",
   "id": "3d4459eb1950b044",
   "outputs": [],
   "execution_count": null
  },
  {
   "metadata": {},
   "cell_type": "code",
   "source": [
    "# Unir los datos de la tienda con los datos de entrenamiento y prueba\n",
    "train_df = train_df.merge(store_df, on='Store', how='left')\n",
    "test_df = test_df.merge(store_df, on='Store', how='left')\n"
   ],
   "id": "cca4901592b0c4bb",
   "outputs": [],
   "execution_count": null
  },
  {
   "metadata": {},
   "cell_type": "code",
   "source": [
    "# Mostrar las primeras filas después de la unión\n",
    "print(train_df.head())\n"
   ],
   "id": "d94986d7e3ba8c7e",
   "outputs": [],
   "execution_count": null
  },
  {
   "metadata": {},
   "cell_type": "code",
   "source": "print(test_df.head())\n",
   "id": "a68fc22b1649bd87",
   "outputs": [],
   "execution_count": null
  },
  {
   "metadata": {},
   "cell_type": "code",
   "source": [
    "#pasar nombre de columnas a minusculas y reemplazar espacios por guiones bajos\n",
    "train_df.columns = [col.lower().replace(' ', '_') for col in train_df.columns]\n",
    "test_df.columns = [col.lower().replace(' ', '_') for col in test_df.columns]\n"
   ],
   "id": "46130c58f2335da3",
   "outputs": [],
   "execution_count": null
  },
  {
   "metadata": {},
   "cell_type": "code",
   "source": [
    "#evaluamos la presencia de valores nulos\n",
    "print(train_df.isnull().sum())\n"
   ],
   "id": "53a8b7a27f50880b",
   "outputs": [],
   "execution_count": null
  },
  {
   "metadata": {},
   "cell_type": "code",
   "source": [
    "#evaluamos la presencia de valores nulos\n",
    "print(test_df.isnull().sum())"
   ],
   "id": "a10529e4fedbbc0d",
   "outputs": [],
   "execution_count": null
  },
  {
   "metadata": {},
   "cell_type": "code",
   "source": [
    "# Rellenar valores nulos en columnas de competencia\n",
    "train_df['competitiondistance'].fillna(0, inplace=True)\n",
    "train_df['competitionopensincemonth'].fillna(0, inplace=True)\n",
    "train_df['competitionopensinceyear'].fillna(0, inplace=True)\n",
    "\n",
    "test_df['competitiondistance'].fillna(0, inplace=True)\n",
    "test_df['competitionopensincemonth'].fillna(0, inplace=True)\n",
    "test_df['competitionopensinceyear'].fillna(0, inplace=True)\n",
    "\n",
    "# Rellenar valores nulos en columnas de promoción\n",
    "train_df['promo2sinceweek'].fillna(0, inplace=True)\n",
    "train_df['promo2sinceyear'].fillna(0, inplace=True)\n",
    "train_df['promointerval'].fillna(0, inplace=True)\n",
    "\n",
    "test_df['promo2sinceweek'].fillna(0, inplace=True)\n",
    "test_df['promo2sinceyear'].fillna(0, inplace=True)\n",
    "test_df['promointerval'].fillna(0, inplace=True)"
   ],
   "id": "2059479336c0554f",
   "outputs": [],
   "execution_count": null
  },
  {
   "metadata": {},
   "cell_type": "code",
   "source": [
    "#mostrar los tipos de datos\n",
    "print(train_df.dtypes)"
   ],
   "id": "ceb9f9eb2cb37f04",
   "outputs": [],
   "execution_count": null
  },
  {
   "metadata": {},
   "cell_type": "code",
   "source": [
    "# Crear un boxplot para visualizar los outliers en la columna 'sales'\n",
    "plt.figure(figsize=(12, 6))\n",
    "sns.boxplot(x=train_df['sales'])\n",
    "plt.title('Boxplot de Sales')\n",
    "plt.show()\n",
    "\n",
    "# Crear un boxplot para visualizar los outliers en la columna 'competitiondistance'\n",
    "plt.figure(figsize=(12, 6))\n",
    "sns.boxplot(x=train_df['competitiondistance'])\n",
    "plt.title('Boxplot de Competition Distance')\n",
    "plt.show()"
   ],
   "id": "7696bb062f9d42b9",
   "outputs": [],
   "execution_count": null
  },
  {
   "metadata": {},
   "cell_type": "code",
   "source": [
    "# Convertir columnas a booleanos\n",
    "train_df['promo'] = train_df['promo'].astype(bool)\n",
    "train_df['promo2'] = train_df['promo2'].astype(bool)\n",
    "train_df['stateholiday'] = train_df['stateholiday'].astype(bool)\n",
    "train_df['schoolholiday'] = train_df['schoolholiday'].astype(bool)\n",
    "\n",
    "test_df['promo'] = test_df['promo'].astype(bool)\n",
    "test_df['promo2'] = test_df['promo2'].astype(bool)\n",
    "test_df['stateholiday'] = test_df['stateholiday'].astype(bool)\n",
    "test_df['schoolholiday'] = test_df['schoolholiday'].astype(bool)"
   ],
   "id": "25408dc699b3d106",
   "outputs": [],
   "execution_count": null
  },
  {
   "metadata": {},
   "cell_type": "code",
   "source": [
    "#convertir datetime \n",
    "train_df['date'] = pd.to_datetime(train_df['date'])\n",
    "test_df['date'] = pd.to_datetime(test_df['date'])"
   ],
   "id": "65ac4d0dc862190f",
   "outputs": [],
   "execution_count": null
  },
  {
   "metadata": {},
   "cell_type": "code",
   "source": [
    "#Crear columnas adicionales para el año, mes y día\n",
    "train_df['year'] = train_df['date'].dt.year\n",
    "train_df['month'] = train_df['date'].dt.month\n",
    "train_df['day'] = train_df['date'].dt.day\n"
   ],
   "id": "4e55b7f3c2f4b888",
   "outputs": [],
   "execution_count": null
  },
  {
   "metadata": {},
   "cell_type": "code",
   "source": [
    "#Crear columnas adicionales para el año, mes y día\n",
    "test_df['year'] = test_df['date'].dt.year\n",
    "test_df['month'] = test_df['date'].dt.month\n",
    "test_df['day'] = test_df['date'].dt.day\n"
   ],
   "id": "68bf747f24d0d52",
   "outputs": [],
   "execution_count": null
  },
  {
   "metadata": {},
   "cell_type": "code",
   "source": [
    "# URL of the weather data\n",
    "url_weather = 'http://www.estesparkweather.net/archive_reports.php?date='\n",
    "\n",
    "# Function to scrape weather data for a specific date\n",
    "def scrape_weather_data(date):\n",
    "    response = requests.get(url_weather + date)\n",
    "    soup = BeautifulSoup(response.content, 'html.parser')\n",
    "\n",
    "    # Extract weather data (adjust according to the website's structure)\n",
    "    weather_data = []\n",
    "    for row in soup.find_all('tr'):\n",
    "        columns = row.find_all('td')\n",
    "        if columns:\n",
    "            time = columns[0].text.strip()\n",
    "            temperature = columns[1].text.strip()\n",
    "            humidity = columns[2].text.strip()\n",
    "            weather_data.append({'time': time, 'temperature': temperature, 'humidity': humidity})\n",
    "\n",
    "    return pd.DataFrame(weather_data)\n"
   ],
   "id": "f57c613460f02ca2",
   "outputs": [],
   "execution_count": null
  },
  {
   "metadata": {},
   "cell_type": "code",
   "source": [
    "#loop each date of the dataset and scrape the data\n",
    "weather_data = []\n",
    "for date in train_df['date'].dt.strftime('%Y%m%d').unique():\n",
    "    weather_data.append(scrape_weather_data(date))\n",
    "    "
   ],
   "id": "4ac6597089166e87",
   "outputs": [],
   "execution_count": null
  },
  {
   "metadata": {},
   "cell_type": "code",
   "source": "",
   "id": "749c4a372ad0ac22",
   "outputs": [],
   "execution_count": null
  }
 ],
 "metadata": {
  "kernelspec": {
   "display_name": "Python 3",
   "language": "python",
   "name": "python3"
  },
  "language_info": {
   "codemirror_mode": {
    "name": "ipython",
    "version": 2
   },
   "file_extension": ".py",
   "mimetype": "text/x-python",
   "name": "python",
   "nbconvert_exporter": "python",
   "pygments_lexer": "ipython2",
   "version": "2.7.6"
  }
 },
 "nbformat": 4,
 "nbformat_minor": 5
}
